{
  "nbformat": 4,
  "nbformat_minor": 0,
  "metadata": {
    "colab": {
      "provenance": [],
      "authorship_tag": "ABX9TyMgzQlU2s+MVRiPNuerFRC8",
      "include_colab_link": true
    },
    "kernelspec": {
      "name": "python3",
      "display_name": "Python 3"
    },
    "language_info": {
      "name": "python"
    }
  },
  "cells": [
    {
      "cell_type": "markdown",
      "metadata": {
        "id": "view-in-github",
        "colab_type": "text"
      },
      "source": [
        "<a href=\"https://colab.research.google.com/github/gk-anonymous/American-Express-Data-Analysis-Project/blob/main/AmericanExpresss.ipynb\" target=\"_parent\"><img src=\"https://colab.research.google.com/assets/colab-badge.svg\" alt=\"Open In Colab\"/></a>"
      ]
    },
    {
      "cell_type": "code",
      "execution_count": null,
      "metadata": {
        "colab": {
          "base_uri": "https://localhost:8080/"
        },
        "id": "XHT8tUWAWPcP",
        "outputId": "e45fdae9-c172-4dfe-d392-e2af4628cde3"
      },
      "outputs": [
        {
          "output_type": "stream",
          "name": "stdout",
          "text": [
            "Requirement already satisfied: pandas in /usr/local/lib/python3.10/dist-packages (1.5.3)\n",
            "Requirement already satisfied: python-dateutil>=2.8.1 in /usr/local/lib/python3.10/dist-packages (from pandas) (2.8.2)\n",
            "Requirement already satisfied: pytz>=2020.1 in /usr/local/lib/python3.10/dist-packages (from pandas) (2023.3.post1)\n",
            "Requirement already satisfied: numpy>=1.21.0 in /usr/local/lib/python3.10/dist-packages (from pandas) (1.23.5)\n",
            "Requirement already satisfied: six>=1.5 in /usr/local/lib/python3.10/dist-packages (from python-dateutil>=2.8.1->pandas) (1.16.0)\n"
          ]
        }
      ],
      "source": [
        "pip install pandas"
      ]
    },
    {
      "cell_type": "code",
      "source": [
        "pip install numpy"
      ],
      "metadata": {
        "colab": {
          "base_uri": "https://localhost:8080/"
        },
        "id": "31-D4FRYW2qj",
        "outputId": "a6130a8e-fe3d-4b80-ad50-de11173a9ccc"
      },
      "execution_count": null,
      "outputs": [
        {
          "output_type": "stream",
          "name": "stdout",
          "text": [
            "Requirement already satisfied: numpy in /usr/local/lib/python3.10/dist-packages (1.23.5)\n"
          ]
        }
      ]
    },
    {
      "cell_type": "code",
      "source": [
        "pip install tensorflow"
      ],
      "metadata": {
        "colab": {
          "base_uri": "https://localhost:8080/"
        },
        "id": "QEMKSKikW7tf",
        "outputId": "16d21090-cd9b-4108-a03c-e985dba16d98"
      },
      "execution_count": null,
      "outputs": [
        {
          "output_type": "stream",
          "name": "stdout",
          "text": [
            "Requirement already satisfied: tensorflow in /usr/local/lib/python3.10/dist-packages (2.13.0)\n",
            "Requirement already satisfied: absl-py>=1.0.0 in /usr/local/lib/python3.10/dist-packages (from tensorflow) (1.4.0)\n",
            "Requirement already satisfied: astunparse>=1.6.0 in /usr/local/lib/python3.10/dist-packages (from tensorflow) (1.6.3)\n",
            "Requirement already satisfied: flatbuffers>=23.1.21 in /usr/local/lib/python3.10/dist-packages (from tensorflow) (23.5.26)\n",
            "Requirement already satisfied: gast<=0.4.0,>=0.2.1 in /usr/local/lib/python3.10/dist-packages (from tensorflow) (0.4.0)\n",
            "Requirement already satisfied: google-pasta>=0.1.1 in /usr/local/lib/python3.10/dist-packages (from tensorflow) (0.2.0)\n",
            "Requirement already satisfied: grpcio<2.0,>=1.24.3 in /usr/local/lib/python3.10/dist-packages (from tensorflow) (1.57.0)\n",
            "Requirement already satisfied: h5py>=2.9.0 in /usr/local/lib/python3.10/dist-packages (from tensorflow) (3.9.0)\n",
            "Requirement already satisfied: keras<2.14,>=2.13.1 in /usr/local/lib/python3.10/dist-packages (from tensorflow) (2.13.1)\n",
            "Requirement already satisfied: libclang>=13.0.0 in /usr/local/lib/python3.10/dist-packages (from tensorflow) (16.0.6)\n",
            "Requirement already satisfied: numpy<=1.24.3,>=1.22 in /usr/local/lib/python3.10/dist-packages (from tensorflow) (1.23.5)\n",
            "Requirement already satisfied: opt-einsum>=2.3.2 in /usr/local/lib/python3.10/dist-packages (from tensorflow) (3.3.0)\n",
            "Requirement already satisfied: packaging in /usr/local/lib/python3.10/dist-packages (from tensorflow) (23.1)\n",
            "Requirement already satisfied: protobuf!=4.21.0,!=4.21.1,!=4.21.2,!=4.21.3,!=4.21.4,!=4.21.5,<5.0.0dev,>=3.20.3 in /usr/local/lib/python3.10/dist-packages (from tensorflow) (3.20.3)\n",
            "Requirement already satisfied: setuptools in /usr/local/lib/python3.10/dist-packages (from tensorflow) (67.7.2)\n",
            "Requirement already satisfied: six>=1.12.0 in /usr/local/lib/python3.10/dist-packages (from tensorflow) (1.16.0)\n",
            "Requirement already satisfied: tensorboard<2.14,>=2.13 in /usr/local/lib/python3.10/dist-packages (from tensorflow) (2.13.0)\n",
            "Requirement already satisfied: tensorflow-estimator<2.14,>=2.13.0 in /usr/local/lib/python3.10/dist-packages (from tensorflow) (2.13.0)\n",
            "Requirement already satisfied: termcolor>=1.1.0 in /usr/local/lib/python3.10/dist-packages (from tensorflow) (2.3.0)\n",
            "Requirement already satisfied: typing-extensions<4.6.0,>=3.6.6 in /usr/local/lib/python3.10/dist-packages (from tensorflow) (4.5.0)\n",
            "Requirement already satisfied: wrapt>=1.11.0 in /usr/local/lib/python3.10/dist-packages (from tensorflow) (1.15.0)\n",
            "Requirement already satisfied: tensorflow-io-gcs-filesystem>=0.23.1 in /usr/local/lib/python3.10/dist-packages (from tensorflow) (0.33.0)\n",
            "Requirement already satisfied: wheel<1.0,>=0.23.0 in /usr/local/lib/python3.10/dist-packages (from astunparse>=1.6.0->tensorflow) (0.41.2)\n",
            "Requirement already satisfied: google-auth<3,>=1.6.3 in /usr/local/lib/python3.10/dist-packages (from tensorboard<2.14,>=2.13->tensorflow) (2.17.3)\n",
            "Requirement already satisfied: google-auth-oauthlib<1.1,>=0.5 in /usr/local/lib/python3.10/dist-packages (from tensorboard<2.14,>=2.13->tensorflow) (1.0.0)\n",
            "Requirement already satisfied: markdown>=2.6.8 in /usr/local/lib/python3.10/dist-packages (from tensorboard<2.14,>=2.13->tensorflow) (3.4.4)\n",
            "Requirement already satisfied: requests<3,>=2.21.0 in /usr/local/lib/python3.10/dist-packages (from tensorboard<2.14,>=2.13->tensorflow) (2.31.0)\n",
            "Requirement already satisfied: tensorboard-data-server<0.8.0,>=0.7.0 in /usr/local/lib/python3.10/dist-packages (from tensorboard<2.14,>=2.13->tensorflow) (0.7.1)\n",
            "Requirement already satisfied: werkzeug>=1.0.1 in /usr/local/lib/python3.10/dist-packages (from tensorboard<2.14,>=2.13->tensorflow) (2.3.7)\n",
            "Requirement already satisfied: cachetools<6.0,>=2.0.0 in /usr/local/lib/python3.10/dist-packages (from google-auth<3,>=1.6.3->tensorboard<2.14,>=2.13->tensorflow) (5.3.1)\n",
            "Requirement already satisfied: pyasn1-modules>=0.2.1 in /usr/local/lib/python3.10/dist-packages (from google-auth<3,>=1.6.3->tensorboard<2.14,>=2.13->tensorflow) (0.3.0)\n",
            "Requirement already satisfied: rsa<5,>=3.1.4 in /usr/local/lib/python3.10/dist-packages (from google-auth<3,>=1.6.3->tensorboard<2.14,>=2.13->tensorflow) (4.9)\n",
            "Requirement already satisfied: requests-oauthlib>=0.7.0 in /usr/local/lib/python3.10/dist-packages (from google-auth-oauthlib<1.1,>=0.5->tensorboard<2.14,>=2.13->tensorflow) (1.3.1)\n",
            "Requirement already satisfied: charset-normalizer<4,>=2 in /usr/local/lib/python3.10/dist-packages (from requests<3,>=2.21.0->tensorboard<2.14,>=2.13->tensorflow) (3.2.0)\n",
            "Requirement already satisfied: idna<4,>=2.5 in /usr/local/lib/python3.10/dist-packages (from requests<3,>=2.21.0->tensorboard<2.14,>=2.13->tensorflow) (3.4)\n",
            "Requirement already satisfied: urllib3<3,>=1.21.1 in /usr/local/lib/python3.10/dist-packages (from requests<3,>=2.21.0->tensorboard<2.14,>=2.13->tensorflow) (2.0.4)\n",
            "Requirement already satisfied: certifi>=2017.4.17 in /usr/local/lib/python3.10/dist-packages (from requests<3,>=2.21.0->tensorboard<2.14,>=2.13->tensorflow) (2023.7.22)\n",
            "Requirement already satisfied: MarkupSafe>=2.1.1 in /usr/local/lib/python3.10/dist-packages (from werkzeug>=1.0.1->tensorboard<2.14,>=2.13->tensorflow) (2.1.3)\n",
            "Requirement already satisfied: pyasn1<0.6.0,>=0.4.6 in /usr/local/lib/python3.10/dist-packages (from pyasn1-modules>=0.2.1->google-auth<3,>=1.6.3->tensorboard<2.14,>=2.13->tensorflow) (0.5.0)\n",
            "Requirement already satisfied: oauthlib>=3.0.0 in /usr/local/lib/python3.10/dist-packages (from requests-oauthlib>=0.7.0->google-auth-oauthlib<1.1,>=0.5->tensorboard<2.14,>=2.13->tensorflow) (3.2.2)\n"
          ]
        }
      ]
    },
    {
      "cell_type": "code",
      "source": [
        "import numpy as np\n",
        "import pandas as pd\n",
        "import tensorflow as tf"
      ],
      "metadata": {
        "id": "DcSXIWGeXBBo"
      },
      "execution_count": 32,
      "outputs": []
    },
    {
      "cell_type": "code",
      "source": [
        "tf.__version__"
      ],
      "metadata": {
        "colab": {
          "base_uri": "https://localhost:8080/",
          "height": 36
        },
        "id": "moBi7OauaOhS",
        "outputId": "4c0c952a-c9a2-4f21-fa6e-0708feb4b71e"
      },
      "execution_count": 33,
      "outputs": [
        {
          "output_type": "execute_result",
          "data": {
            "text/plain": [
              "'2.13.0'"
            ],
            "application/vnd.google.colaboratory.intrinsic+json": {
              "type": "string"
            }
          },
          "metadata": {},
          "execution_count": 33
        }
      ]
    },
    {
      "cell_type": "code",
      "source": [],
      "metadata": {
        "id": "DhfKEFOaeSA7"
      },
      "execution_count": 33,
      "outputs": []
    },
    {
      "cell_type": "code",
      "source": [
        "dataset = pd.read_csv('American Express User Exit Prediction.csv')\n",
        "x = dataset.iloc[:,0:-1].values\n",
        "y = dataset.iloc[:,-1].values"
      ],
      "metadata": {
        "id": "GyWl2VoUa2iA"
      },
      "execution_count": 34,
      "outputs": []
    },
    {
      "cell_type": "code",
      "source": [
        "print(x)"
      ],
      "metadata": {
        "colab": {
          "base_uri": "https://localhost:8080/"
        },
        "id": "9VbxNpCTezjB",
        "outputId": "6264b7b5-76bd-4631-f8fa-28bd63d2e0de"
      },
      "execution_count": 35,
      "outputs": [
        {
          "output_type": "stream",
          "name": "stdout",
          "text": [
            "[[553.0 'Delhi' 'Female' ... 4.0 1.0 274150.0]\n",
            " [447.0 'Bengaluru' 'Male' ... 4.0 1.0 519360.0]\n",
            " [501.0 'Delhi' 'Female' ... 4.0 1.0 545501.0]\n",
            " ...\n",
            " [553.0 'Delhi' 'Male' ... 4.0 1.0 180031.0]\n",
            " [nan nan nan ... nan nan nan]\n",
            " [nan nan nan ... nan nan nan]]\n"
          ]
        }
      ]
    },
    {
      "cell_type": "code",
      "source": [
        "#Gender column : Label Encoding"
      ],
      "metadata": {
        "id": "5l_lUnePiH1f"
      },
      "execution_count": 36,
      "outputs": []
    },
    {
      "cell_type": "code",
      "source": [
        "from sklearn.preprocessing import LabelEncoder\n",
        "label_encoder = LabelEncoder()\n",
        "x[:, 2] = label_encoder.fit_transform(x[:,2])"
      ],
      "metadata": {
        "id": "BFSLpqfdg05T"
      },
      "execution_count": 37,
      "outputs": []
    },
    {
      "cell_type": "code",
      "source": [
        "print(x)"
      ],
      "metadata": {
        "colab": {
          "base_uri": "https://localhost:8080/"
        },
        "id": "QrliRB27hl3X",
        "outputId": "434375a2-de5b-4b60-b38b-57344edf666a"
      },
      "execution_count": 38,
      "outputs": [
        {
          "output_type": "stream",
          "name": "stdout",
          "text": [
            "[[553.0 'Delhi' 0 ... 4.0 1.0 274150.0]\n",
            " [447.0 'Bengaluru' 1 ... 4.0 1.0 519360.0]\n",
            " [501.0 'Delhi' 0 ... 4.0 1.0 545501.0]\n",
            " ...\n",
            " [553.0 'Delhi' 1 ... 4.0 1.0 180031.0]\n",
            " [nan nan 2 ... nan nan nan]\n",
            " [nan nan 2 ... nan nan nan]]\n"
          ]
        }
      ]
    },
    {
      "cell_type": "code",
      "source": [
        "#Geography column : One hot Encoding"
      ],
      "metadata": {
        "id": "lpJsFqiIhnjB"
      },
      "execution_count": 39,
      "outputs": []
    },
    {
      "cell_type": "code",
      "source": [
        "from sklearn.compose import ColumnTransformer\n",
        "from sklearn.preprocessing import OneHotEncoder\n",
        "ct = ColumnTransformer(transformers=[('encoder', OneHotEncoder(), [1])],remainder = 'passthrough')\n",
        "x = np.array(ct.fit_transform(x))"
      ],
      "metadata": {
        "id": "Upncdr4biFIH"
      },
      "execution_count": 40,
      "outputs": []
    },
    {
      "cell_type": "code",
      "source": [
        "print(x)"
      ],
      "metadata": {
        "colab": {
          "base_uri": "https://localhost:8080/"
        },
        "id": "Zd63VDJjkAZV",
        "outputId": "3d269313-180d-4f7d-db3a-9f21df56383c"
      },
      "execution_count": 41,
      "outputs": [
        {
          "output_type": "stream",
          "name": "stdout",
          "text": [
            "[[0.0 1.0 0.0 ... 4.0 1.0 274150.0]\n",
            " [1.0 0.0 0.0 ... 4.0 1.0 519360.0]\n",
            " [0.0 1.0 0.0 ... 4.0 1.0 545501.0]\n",
            " ...\n",
            " [0.0 1.0 0.0 ... 4.0 1.0 180031.0]\n",
            " [0.0 0.0 0.0 ... nan nan nan]\n",
            " [0.0 0.0 0.0 ... nan nan nan]]\n"
          ]
        }
      ]
    },
    {
      "cell_type": "code",
      "source": [
        "#Splitting dataset into training"
      ],
      "metadata": {
        "id": "hZ-GZsiAkaUk"
      },
      "execution_count": 42,
      "outputs": []
    },
    {
      "cell_type": "code",
      "source": [
        "from sklearn.model_selection import train_test_split\n",
        "x_train,x_test,y_train,y_test = train_test_split(x,y,test_size = 0.2, random_state = 0)"
      ],
      "metadata": {
        "id": "7nC6mImxkNw3"
      },
      "execution_count": 43,
      "outputs": []
    },
    {
      "cell_type": "code",
      "source": [
        "#Future Scaling"
      ],
      "metadata": {
        "id": "ShEYCv3ClB-Y"
      },
      "execution_count": 44,
      "outputs": []
    },
    {
      "cell_type": "code",
      "source": [
        "from sklearn.preprocessing import StandardScaler\n",
        "sc = StandardScaler()\n",
        "x_train = sc.fit_transform(x_train)\n",
        "x_test = sc.transform(x_test)"
      ],
      "metadata": {
        "id": "x5YrJR5ZlI4u"
      },
      "execution_count": 45,
      "outputs": []
    },
    {
      "cell_type": "code",
      "source": [
        "#ANN Initilization"
      ],
      "metadata": {
        "id": "l_Fjke4HlkZI"
      },
      "execution_count": 46,
      "outputs": []
    },
    {
      "cell_type": "code",
      "source": [
        "ann = tf.keras.models.Sequential()"
      ],
      "metadata": {
        "id": "0WaySvculsGE"
      },
      "execution_count": 47,
      "outputs": []
    },
    {
      "cell_type": "code",
      "source": [
        "#Adding Input layer and first hidden layer"
      ],
      "metadata": {
        "id": "m346zDatlyXn"
      },
      "execution_count": 48,
      "outputs": []
    },
    {
      "cell_type": "code",
      "source": [],
      "metadata": {
        "id": "rCHUpz5Zl8Pr"
      },
      "execution_count": 49,
      "outputs": []
    },
    {
      "cell_type": "code",
      "source": [
        "#Adding second hidden layer"
      ],
      "metadata": {
        "id": "nShRpmH_mIZo"
      },
      "execution_count": 50,
      "outputs": []
    },
    {
      "cell_type": "code",
      "source": [],
      "metadata": {
        "id": "NR20zOvcmZqv"
      },
      "execution_count": 51,
      "outputs": []
    },
    {
      "cell_type": "code",
      "source": [
        "#Adding output layer"
      ],
      "metadata": {
        "id": "vDg-2O70mjrq"
      },
      "execution_count": 52,
      "outputs": []
    },
    {
      "cell_type": "code",
      "source": [],
      "metadata": {
        "id": "CIdwpIBDmnqP"
      },
      "execution_count": 53,
      "outputs": []
    },
    {
      "cell_type": "code",
      "source": [
        "#ANN  compile"
      ],
      "metadata": {
        "id": "YaFzZCTEmsn_"
      },
      "execution_count": 54,
      "outputs": []
    },
    {
      "cell_type": "code",
      "source": [],
      "metadata": {
        "id": "zvaT76s1mzKj"
      },
      "execution_count": 55,
      "outputs": []
    },
    {
      "cell_type": "code",
      "source": [
        "#Traning On training dataset"
      ],
      "metadata": {
        "id": "X5ktad2hm_fJ"
      },
      "execution_count": 56,
      "outputs": []
    },
    {
      "cell_type": "code",
      "source": [
        "\n"
      ],
      "metadata": {
        "id": "ZGRWAFVXohqx"
      },
      "execution_count": 56,
      "outputs": []
    },
    {
      "cell_type": "markdown",
      "source": [
        "# New Section"
      ],
      "metadata": {
        "id": "29BFGwTjp1H_"
      }
    },
    {
      "cell_type": "code",
      "source": [
        "import numpy as np\n",
        "import pandas as pd\n",
        "import tensorflow as tf\n",
        "from sklearn.preprocessing import LabelEncoder, OneHotEncoder, StandardScaler\n",
        "from sklearn.compose import ColumnTransformer\n",
        "from sklearn.model_selection import train_test_split\n",
        "\n",
        "# Load the dataset\n",
        "dataset = pd.read_csv('American Express User Exit Prediction.csv')\n",
        "\n",
        "# Separate features (x) and target (y)\n",
        "x = dataset.iloc[:, 0:-1].values\n",
        "y = dataset.iloc[:, -1].values\n",
        "\n",
        "# Encode categorical data\n",
        "label_encoder = LabelEncoder()\n",
        "x[:, 2] = label_encoder.fit_transform(x[:, 2])\n",
        "\n",
        "# One-hot encode categorical data\n",
        "ct = ColumnTransformer(transformers=[('encoder', OneHotEncoder(), [1])], remainder='passthrough')\n",
        "x = np.array(ct.fit_transform(x))\n",
        "\n",
        "# Split the dataset into training and testing sets\n",
        "x_train, x_test, y_train, y_test = train_test_split(x, y, test_size=0.2, random_state=0)\n",
        "\n",
        "# Standardize features\n",
        "sc = StandardScaler()\n",
        "x_train = sc.fit_transform(x_train)\n",
        "x_test = sc.transform(x_test)\n",
        "\n",
        "# Build the neural network model\n",
        "ann = tf.keras.models.Sequential()\n",
        "ann.add(tf.keras.layers.Dense(units=5, activation='relu'))\n",
        "ann.add(tf.keras.layers.Dense(units=5, activation='relu'))\n",
        "ann.add(tf.keras.layers.Dense(units=1, activation='sigmoid'))\n",
        "\n",
        "# Compile the model\n",
        "ann.compile(optimizer='adam', loss='binary_crossentropy', metrics=['accuracy'])\n",
        "\n",
        "# Train the model\n",
        "ann.fit(x_train, y_train, batch_size=32, epochs=120)\n",
        "\n"
      ],
      "metadata": {
        "colab": {
          "base_uri": "https://localhost:8080/"
        },
        "id": "19xSqtOPouXY",
        "outputId": "ac2b3e78-67af-4153-a4e4-0e9f1e0138f9"
      },
      "execution_count": 65,
      "outputs": [
        {
          "output_type": "stream",
          "name": "stdout",
          "text": [
            "Epoch 1/120\n",
            "249/249 [==============================] - 1s 1ms/step - loss: nan - accuracy: 0.7176\n",
            "Epoch 2/120\n",
            "249/249 [==============================] - 0s 1ms/step - loss: nan - accuracy: 0.7937\n",
            "Epoch 3/120\n",
            "249/249 [==============================] - 0s 1ms/step - loss: nan - accuracy: 0.7937\n",
            "Epoch 4/120\n",
            "249/249 [==============================] - 0s 1ms/step - loss: nan - accuracy: 0.7937\n",
            "Epoch 5/120\n",
            "249/249 [==============================] - 0s 1ms/step - loss: nan - accuracy: 0.7937\n",
            "Epoch 6/120\n",
            "249/249 [==============================] - 0s 1ms/step - loss: nan - accuracy: 0.7937\n",
            "Epoch 7/120\n",
            "249/249 [==============================] - 0s 1ms/step - loss: nan - accuracy: 0.7937\n",
            "Epoch 8/120\n",
            "249/249 [==============================] - 0s 1ms/step - loss: nan - accuracy: 0.7937\n",
            "Epoch 9/120\n",
            "249/249 [==============================] - 0s 1ms/step - loss: nan - accuracy: 0.7937\n",
            "Epoch 10/120\n",
            "249/249 [==============================] - 0s 1ms/step - loss: nan - accuracy: 0.7937\n",
            "Epoch 11/120\n",
            "249/249 [==============================] - 0s 1ms/step - loss: nan - accuracy: 0.7937\n",
            "Epoch 12/120\n",
            "249/249 [==============================] - 0s 1ms/step - loss: nan - accuracy: 0.7937\n",
            "Epoch 13/120\n",
            "249/249 [==============================] - 0s 1ms/step - loss: nan - accuracy: 0.7937\n",
            "Epoch 14/120\n",
            "249/249 [==============================] - 0s 1ms/step - loss: nan - accuracy: 0.7937\n",
            "Epoch 15/120\n",
            "249/249 [==============================] - 0s 1ms/step - loss: nan - accuracy: 0.7937\n",
            "Epoch 16/120\n",
            "249/249 [==============================] - 0s 1ms/step - loss: nan - accuracy: 0.7937\n",
            "Epoch 17/120\n",
            "249/249 [==============================] - 0s 1ms/step - loss: nan - accuracy: 0.7937\n",
            "Epoch 18/120\n",
            "249/249 [==============================] - 0s 1ms/step - loss: nan - accuracy: 0.7937\n",
            "Epoch 19/120\n",
            "249/249 [==============================] - 0s 1ms/step - loss: nan - accuracy: 0.7937\n",
            "Epoch 20/120\n",
            "249/249 [==============================] - 0s 2ms/step - loss: nan - accuracy: 0.7937\n",
            "Epoch 21/120\n",
            "249/249 [==============================] - 0s 2ms/step - loss: nan - accuracy: 0.7937\n",
            "Epoch 22/120\n",
            "249/249 [==============================] - 0s 1ms/step - loss: nan - accuracy: 0.7937\n",
            "Epoch 23/120\n",
            "249/249 [==============================] - 0s 2ms/step - loss: nan - accuracy: 0.7937\n",
            "Epoch 24/120\n",
            "249/249 [==============================] - 0s 1ms/step - loss: nan - accuracy: 0.7937\n",
            "Epoch 25/120\n",
            "249/249 [==============================] - 0s 1ms/step - loss: nan - accuracy: 0.7937\n",
            "Epoch 26/120\n",
            "249/249 [==============================] - 0s 1ms/step - loss: nan - accuracy: 0.7937\n",
            "Epoch 27/120\n",
            "249/249 [==============================] - 0s 1ms/step - loss: nan - accuracy: 0.7937\n",
            "Epoch 28/120\n",
            "249/249 [==============================] - 0s 1ms/step - loss: nan - accuracy: 0.7937\n",
            "Epoch 29/120\n",
            "249/249 [==============================] - 0s 1ms/step - loss: nan - accuracy: 0.7937\n",
            "Epoch 30/120\n",
            "249/249 [==============================] - 0s 1ms/step - loss: nan - accuracy: 0.7937\n",
            "Epoch 31/120\n",
            "249/249 [==============================] - 0s 1ms/step - loss: nan - accuracy: 0.7937\n",
            "Epoch 32/120\n",
            "249/249 [==============================] - 0s 1ms/step - loss: nan - accuracy: 0.7937\n",
            "Epoch 33/120\n",
            "249/249 [==============================] - 0s 1ms/step - loss: nan - accuracy: 0.7937\n",
            "Epoch 34/120\n",
            "249/249 [==============================] - 0s 1ms/step - loss: nan - accuracy: 0.7937\n",
            "Epoch 35/120\n",
            "249/249 [==============================] - 0s 1ms/step - loss: nan - accuracy: 0.7937\n",
            "Epoch 36/120\n",
            "249/249 [==============================] - 0s 1ms/step - loss: nan - accuracy: 0.7937\n",
            "Epoch 37/120\n",
            "249/249 [==============================] - 0s 1ms/step - loss: nan - accuracy: 0.7937\n",
            "Epoch 38/120\n",
            "249/249 [==============================] - 0s 1ms/step - loss: nan - accuracy: 0.7937\n",
            "Epoch 39/120\n",
            "249/249 [==============================] - 0s 1ms/step - loss: nan - accuracy: 0.7937\n",
            "Epoch 40/120\n",
            "249/249 [==============================] - 0s 1ms/step - loss: nan - accuracy: 0.7937\n",
            "Epoch 41/120\n",
            "249/249 [==============================] - 0s 1ms/step - loss: nan - accuracy: 0.7937\n",
            "Epoch 42/120\n",
            "249/249 [==============================] - 0s 1ms/step - loss: nan - accuracy: 0.7937\n",
            "Epoch 43/120\n",
            "249/249 [==============================] - 0s 1ms/step - loss: nan - accuracy: 0.7937\n",
            "Epoch 44/120\n",
            "249/249 [==============================] - 0s 1ms/step - loss: nan - accuracy: 0.7937\n",
            "Epoch 45/120\n",
            "249/249 [==============================] - 0s 1ms/step - loss: nan - accuracy: 0.7937\n",
            "Epoch 46/120\n",
            "249/249 [==============================] - 0s 1ms/step - loss: nan - accuracy: 0.7937\n",
            "Epoch 47/120\n",
            "249/249 [==============================] - 0s 1ms/step - loss: nan - accuracy: 0.7937\n",
            "Epoch 48/120\n",
            "249/249 [==============================] - 0s 1ms/step - loss: nan - accuracy: 0.7937\n",
            "Epoch 49/120\n",
            "249/249 [==============================] - 0s 1ms/step - loss: nan - accuracy: 0.7937\n",
            "Epoch 50/120\n",
            "249/249 [==============================] - 0s 1ms/step - loss: nan - accuracy: 0.7937\n",
            "Epoch 51/120\n",
            "249/249 [==============================] - 0s 1ms/step - loss: nan - accuracy: 0.7937\n",
            "Epoch 52/120\n",
            "249/249 [==============================] - 0s 1ms/step - loss: nan - accuracy: 0.7937\n",
            "Epoch 53/120\n",
            "249/249 [==============================] - 0s 1ms/step - loss: nan - accuracy: 0.7937\n",
            "Epoch 54/120\n",
            "249/249 [==============================] - 0s 1ms/step - loss: nan - accuracy: 0.7937\n",
            "Epoch 55/120\n",
            "249/249 [==============================] - 0s 1ms/step - loss: nan - accuracy: 0.7937\n",
            "Epoch 56/120\n",
            "249/249 [==============================] - 0s 2ms/step - loss: nan - accuracy: 0.7937\n",
            "Epoch 57/120\n",
            "249/249 [==============================] - 0s 2ms/step - loss: nan - accuracy: 0.7937\n",
            "Epoch 58/120\n",
            "249/249 [==============================] - 0s 1ms/step - loss: nan - accuracy: 0.7937\n",
            "Epoch 59/120\n",
            "249/249 [==============================] - 0s 1ms/step - loss: nan - accuracy: 0.7937\n",
            "Epoch 60/120\n",
            "249/249 [==============================] - 0s 1ms/step - loss: nan - accuracy: 0.7937\n",
            "Epoch 61/120\n",
            "249/249 [==============================] - 0s 1ms/step - loss: nan - accuracy: 0.7937\n",
            "Epoch 62/120\n",
            "249/249 [==============================] - 0s 1ms/step - loss: nan - accuracy: 0.7937\n",
            "Epoch 63/120\n",
            "249/249 [==============================] - 0s 1ms/step - loss: nan - accuracy: 0.7937\n",
            "Epoch 64/120\n",
            "249/249 [==============================] - 0s 1ms/step - loss: nan - accuracy: 0.7937\n",
            "Epoch 65/120\n",
            "249/249 [==============================] - 0s 1ms/step - loss: nan - accuracy: 0.7937\n",
            "Epoch 66/120\n",
            "249/249 [==============================] - 0s 1ms/step - loss: nan - accuracy: 0.7937\n",
            "Epoch 67/120\n",
            "249/249 [==============================] - 0s 1ms/step - loss: nan - accuracy: 0.7937\n",
            "Epoch 68/120\n",
            "249/249 [==============================] - 0s 1ms/step - loss: nan - accuracy: 0.7937\n",
            "Epoch 69/120\n",
            "249/249 [==============================] - 0s 1ms/step - loss: nan - accuracy: 0.7937\n",
            "Epoch 70/120\n",
            "249/249 [==============================] - 0s 1ms/step - loss: nan - accuracy: 0.7937\n",
            "Epoch 71/120\n",
            "249/249 [==============================] - 0s 1ms/step - loss: nan - accuracy: 0.7937\n",
            "Epoch 72/120\n",
            "249/249 [==============================] - 0s 1ms/step - loss: nan - accuracy: 0.7937\n",
            "Epoch 73/120\n",
            "249/249 [==============================] - 0s 1ms/step - loss: nan - accuracy: 0.7937\n",
            "Epoch 74/120\n",
            "249/249 [==============================] - 0s 1ms/step - loss: nan - accuracy: 0.7937\n",
            "Epoch 75/120\n",
            "249/249 [==============================] - 0s 1ms/step - loss: nan - accuracy: 0.7937\n",
            "Epoch 76/120\n",
            "249/249 [==============================] - 0s 1ms/step - loss: nan - accuracy: 0.7937\n",
            "Epoch 77/120\n",
            "249/249 [==============================] - 0s 1ms/step - loss: nan - accuracy: 0.7937\n",
            "Epoch 78/120\n",
            "249/249 [==============================] - 0s 1ms/step - loss: nan - accuracy: 0.7937\n",
            "Epoch 79/120\n",
            "249/249 [==============================] - 0s 1ms/step - loss: nan - accuracy: 0.7937\n",
            "Epoch 80/120\n",
            "249/249 [==============================] - 0s 1ms/step - loss: nan - accuracy: 0.7937\n",
            "Epoch 81/120\n",
            "249/249 [==============================] - 0s 1ms/step - loss: nan - accuracy: 0.7937\n",
            "Epoch 82/120\n",
            "249/249 [==============================] - 0s 1ms/step - loss: nan - accuracy: 0.7937\n",
            "Epoch 83/120\n",
            "249/249 [==============================] - 0s 1ms/step - loss: nan - accuracy: 0.7937\n",
            "Epoch 84/120\n",
            "249/249 [==============================] - 0s 1ms/step - loss: nan - accuracy: 0.7937\n",
            "Epoch 85/120\n",
            "249/249 [==============================] - 0s 1ms/step - loss: nan - accuracy: 0.7937\n",
            "Epoch 86/120\n",
            "249/249 [==============================] - 0s 1ms/step - loss: nan - accuracy: 0.7937\n",
            "Epoch 87/120\n",
            "249/249 [==============================] - 0s 1ms/step - loss: nan - accuracy: 0.7937\n",
            "Epoch 88/120\n",
            "249/249 [==============================] - 0s 1ms/step - loss: nan - accuracy: 0.7937\n",
            "Epoch 89/120\n",
            "249/249 [==============================] - 0s 1ms/step - loss: nan - accuracy: 0.7937\n",
            "Epoch 90/120\n",
            "249/249 [==============================] - 0s 1ms/step - loss: nan - accuracy: 0.7937\n",
            "Epoch 91/120\n",
            "249/249 [==============================] - 0s 1ms/step - loss: nan - accuracy: 0.7937\n",
            "Epoch 92/120\n",
            "249/249 [==============================] - 0s 1ms/step - loss: nan - accuracy: 0.7937\n",
            "Epoch 93/120\n",
            "249/249 [==============================] - 0s 2ms/step - loss: nan - accuracy: 0.7937\n",
            "Epoch 94/120\n",
            "249/249 [==============================] - 0s 2ms/step - loss: nan - accuracy: 0.7937\n",
            "Epoch 95/120\n",
            "249/249 [==============================] - 0s 2ms/step - loss: nan - accuracy: 0.7937\n",
            "Epoch 96/120\n",
            "249/249 [==============================] - 0s 2ms/step - loss: nan - accuracy: 0.7937\n",
            "Epoch 97/120\n",
            "249/249 [==============================] - 0s 1ms/step - loss: nan - accuracy: 0.7937\n",
            "Epoch 98/120\n",
            "249/249 [==============================] - 0s 1ms/step - loss: nan - accuracy: 0.7937\n",
            "Epoch 99/120\n",
            "249/249 [==============================] - 0s 1ms/step - loss: nan - accuracy: 0.7937\n",
            "Epoch 100/120\n",
            "249/249 [==============================] - 0s 1ms/step - loss: nan - accuracy: 0.7937\n",
            "Epoch 101/120\n",
            "249/249 [==============================] - 0s 1ms/step - loss: nan - accuracy: 0.7937\n",
            "Epoch 102/120\n",
            "249/249 [==============================] - 0s 1ms/step - loss: nan - accuracy: 0.7937\n",
            "Epoch 103/120\n",
            "249/249 [==============================] - 0s 1ms/step - loss: nan - accuracy: 0.7937\n",
            "Epoch 104/120\n",
            "249/249 [==============================] - 0s 1ms/step - loss: nan - accuracy: 0.7937\n",
            "Epoch 105/120\n",
            "249/249 [==============================] - 0s 1ms/step - loss: nan - accuracy: 0.7937\n",
            "Epoch 106/120\n",
            "249/249 [==============================] - 0s 1ms/step - loss: nan - accuracy: 0.7937\n",
            "Epoch 107/120\n",
            "249/249 [==============================] - 0s 1ms/step - loss: nan - accuracy: 0.7937\n",
            "Epoch 108/120\n",
            "249/249 [==============================] - 0s 1ms/step - loss: nan - accuracy: 0.7937\n",
            "Epoch 109/120\n",
            "249/249 [==============================] - 0s 1ms/step - loss: nan - accuracy: 0.7937\n",
            "Epoch 110/120\n",
            "249/249 [==============================] - 0s 1ms/step - loss: nan - accuracy: 0.7937\n",
            "Epoch 111/120\n",
            "249/249 [==============================] - 0s 1ms/step - loss: nan - accuracy: 0.7937\n",
            "Epoch 112/120\n",
            "249/249 [==============================] - 0s 1ms/step - loss: nan - accuracy: 0.7937\n",
            "Epoch 113/120\n",
            "249/249 [==============================] - 0s 1ms/step - loss: nan - accuracy: 0.7937\n",
            "Epoch 114/120\n",
            "249/249 [==============================] - 0s 1ms/step - loss: nan - accuracy: 0.7937\n",
            "Epoch 115/120\n",
            "249/249 [==============================] - 0s 1ms/step - loss: nan - accuracy: 0.7937\n",
            "Epoch 116/120\n",
            "249/249 [==============================] - 0s 1ms/step - loss: nan - accuracy: 0.7937\n",
            "Epoch 117/120\n",
            "249/249 [==============================] - 0s 1ms/step - loss: nan - accuracy: 0.7937\n",
            "Epoch 118/120\n",
            "249/249 [==============================] - 0s 1ms/step - loss: nan - accuracy: 0.7937\n",
            "Epoch 119/120\n",
            "249/249 [==============================] - 0s 1ms/step - loss: nan - accuracy: 0.7937\n",
            "Epoch 120/120\n",
            "249/249 [==============================] - 0s 1ms/step - loss: nan - accuracy: 0.7937\n"
          ]
        },
        {
          "output_type": "execute_result",
          "data": {
            "text/plain": [
              "<keras.src.callbacks.History at 0x7d5adb09ddb0>"
            ]
          },
          "metadata": {},
          "execution_count": 65
        }
      ]
    },
    {
      "cell_type": "code",
      "source": [
        "prediction = ann.predict(sc.transform([[0.0, 1.0,0, 0.0, 501, 0, 32, 2, 0.0, 4, 1, 545501]])) > 0.5\n",
        "print(prediction)\n"
      ],
      "metadata": {
        "id": "9LvF9xjKrvCM",
        "colab": {
          "base_uri": "https://localhost:8080/"
        },
        "outputId": "0134b40e-e8d4-4696-8dd2-514e843061a0"
      },
      "execution_count": 67,
      "outputs": [
        {
          "output_type": "stream",
          "name": "stdout",
          "text": [
            "1/1 [==============================] - 0s 233ms/step\n",
            "[[False]]\n"
          ]
        }
      ]
    },
    {
      "cell_type": "code",
      "source": [
        "y_pred = ann.predict(x_test)\n",
        "y_pred = (y_pred > 0.5)\n",
        "print(np.concatenate((  y_pred.reshape(len(y_pred),1),y_test.reshape(len(y_test),1)),1))"
      ],
      "metadata": {
        "colab": {
          "base_uri": "https://localhost:8080/"
        },
        "id": "M9q759KpaB61",
        "outputId": "0a173d27-295e-428d-e225-74b77c405539"
      },
      "execution_count": 68,
      "outputs": [
        {
          "output_type": "stream",
          "name": "stdout",
          "text": [
            "63/63 [==============================] - 0s 957us/step\n",
            "[[0. 0.]\n",
            " [0. 1.]\n",
            " [0. 1.]\n",
            " ...\n",
            " [0. 1.]\n",
            " [0. 0.]\n",
            " [0. 0.]]\n"
          ]
        }
      ]
    },
    {
      "cell_type": "code",
      "source": [
        "\n"
      ],
      "metadata": {
        "id": "qhAq2mvVanRK"
      },
      "execution_count": 59,
      "outputs": []
    },
    {
      "cell_type": "code",
      "source": [],
      "metadata": {
        "id": "m7_oy7ajcScS"
      },
      "execution_count": 59,
      "outputs": []
    },
    {
      "cell_type": "code",
      "source": [
        "import numpy as np\n",
        "from sklearn.metrics import confusion_matrix, accuracy_score\n",
        "\n",
        "# Check for NaN values in y_test\n",
        "nan_indices = np.isnan(y_test)\n",
        "\n",
        "# Remove rows with NaN values from both y_test and corresponding rows in x_test\n",
        "y_test = y_test[~nan_indices]\n",
        "x_test = x_test[~nan_indices]\n",
        "\n",
        "# Make predictions using your neural network model\n",
        "y_pred = ann.predict(x_test) > 0.5\n",
        "\n",
        "# Calculate confusion matrix and accuracy score\n",
        "cm = confusion_matrix(y_test, y_pred)\n",
        "print(cm)\n",
        "accuracy = accuracy_score(y_test, y_pred)\n",
        "print(\"Accuracy:\", accuracy)\n"
      ],
      "metadata": {
        "colab": {
          "base_uri": "https://localhost:8080/"
        },
        "id": "FRLPxPuMcSpS",
        "outputId": "d42b9389-6200-42b5-8652-82bd643fdeec"
      },
      "execution_count": 69,
      "outputs": [
        {
          "output_type": "stream",
          "name": "stdout",
          "text": [
            "63/63 [==============================] - 0s 1ms/step\n",
            "[[1595    0]\n",
            " [ 390    0]]\n",
            "Accuracy: 0.8035264483627204\n"
          ]
        }
      ]
    },
    {
      "cell_type": "code",
      "source": [],
      "metadata": {
        "id": "I-aHUgO0bm37"
      },
      "execution_count": 62,
      "outputs": []
    },
    {
      "cell_type": "code",
      "source": [
        "import numpy as np\n",
        "import pandas as pd\n",
        "import tensorflow as tf\n",
        "from sklearn.preprocessing import LabelEncoder, OneHotEncoder, StandardScaler\n",
        "from sklearn.compose import ColumnTransformer\n",
        "from sklearn.model_selection import train_test_split\n",
        "from sklearn.metrics import confusion_matrix, accuracy_score\n",
        "\n",
        "# Load the dataset\n",
        "dataset = pd.read_csv('American Express User Exit Prediction.csv')\n",
        "\n",
        "# Separate features (x) and target (y)\n",
        "x = dataset.iloc[:, 0:-1].values\n",
        "y = dataset.iloc[:, -1].values\n",
        "\n",
        "# Encode categorical data\n",
        "label_encoder = LabelEncoder()\n",
        "x[:, 2] = label_encoder.fit_transform(x[:, 2])\n",
        "\n",
        "# One-hot encode categorical data\n",
        "ct = ColumnTransformer(transformers=[('encoder', OneHotEncoder(), [1])], remainder='passthrough')\n",
        "x = np.array(ct.fit_transform(x))\n",
        "\n",
        "# Split the dataset into training and testing sets\n",
        "x_train, x_test, y_train, y_test = train_test_split(x, y, test_size=0.2, random_state=0)\n",
        "\n",
        "# Standardize features\n",
        "sc = StandardScaler()\n",
        "x_train = sc.fit_transform(x_train)\n",
        "x_test = sc.transform(x_test)\n",
        "\n",
        "# Build the neural network model\n",
        "ann = tf.keras.models.Sequential()\n",
        "ann.add(tf.keras.layers.Dense(units=5, activation='relu'))\n",
        "ann.add(tf.keras.layers.Dense(units=5, activation='relu'))\n",
        "ann.add(tf.keras.layers.Dense(units=1, activation='sigmoid'))\n",
        "\n",
        "# Compile the model\n",
        "ann.compile(optimizer='adam', loss='binary_crossentropy', metrics=['accuracy'])\n",
        "\n",
        "# Train the model\n",
        "ann.fit(x_train, y_train, batch_size=32, epochs=120)\n",
        "\n",
        "# Identify and remove rows with NaN values in y_test\n",
        "nan_indices = np.isnan(y_test)\n",
        "y_test_cleaned = y_test[~nan_indices]\n",
        "x_test_cleaned = x_test[~nan_indices]\n",
        "\n",
        "# Make predictions using your neural network model\n",
        "y_pred = ann.predict(x_test_cleaned) > 0.5\n",
        "\n",
        "# Calculate confusion matrix and accuracy score\n",
        "cm = confusion_matrix(y_test_cleaned, y_pred)\n",
        "accuracy = accuracy_score(y_test_cleaned, y_pred)\n",
        "\n",
        "print(\"Confusion Matrix:\")\n",
        "print(cm)\n",
        "print(\"Accuracy:\", accuracy)\n"
      ],
      "metadata": {
        "colab": {
          "base_uri": "https://localhost:8080/"
        },
        "id": "9vDkGJCud46D",
        "outputId": "a6b9ad25-3129-4dcd-d05e-16931cd25ff4"
      },
      "execution_count": 71,
      "outputs": [
        {
          "output_type": "stream",
          "name": "stdout",
          "text": [
            "Epoch 1/120\n",
            "249/249 [==============================] - 2s 2ms/step - loss: nan - accuracy: 0.5708\n",
            "Epoch 2/120\n",
            "249/249 [==============================] - 1s 3ms/step - loss: nan - accuracy: 0.7937\n",
            "Epoch 3/120\n",
            "249/249 [==============================] - 1s 4ms/step - loss: nan - accuracy: 0.7937\n",
            "Epoch 4/120\n",
            "249/249 [==============================] - 0s 1ms/step - loss: nan - accuracy: 0.7937\n",
            "Epoch 5/120\n",
            "249/249 [==============================] - 0s 1ms/step - loss: nan - accuracy: 0.7937\n",
            "Epoch 6/120\n",
            "249/249 [==============================] - 0s 1ms/step - loss: nan - accuracy: 0.7937\n",
            "Epoch 7/120\n",
            "249/249 [==============================] - 0s 1ms/step - loss: nan - accuracy: 0.7937\n",
            "Epoch 8/120\n",
            "249/249 [==============================] - 0s 1ms/step - loss: nan - accuracy: 0.7937\n",
            "Epoch 9/120\n",
            "249/249 [==============================] - 0s 1ms/step - loss: nan - accuracy: 0.7937\n",
            "Epoch 10/120\n",
            "249/249 [==============================] - 0s 1ms/step - loss: nan - accuracy: 0.7937\n",
            "Epoch 11/120\n",
            "249/249 [==============================] - 0s 1ms/step - loss: nan - accuracy: 0.7937\n",
            "Epoch 12/120\n",
            "249/249 [==============================] - 0s 1ms/step - loss: nan - accuracy: 0.7937\n",
            "Epoch 13/120\n",
            "249/249 [==============================] - 0s 1ms/step - loss: nan - accuracy: 0.7937\n",
            "Epoch 14/120\n",
            "249/249 [==============================] - 0s 1ms/step - loss: nan - accuracy: 0.7937\n",
            "Epoch 15/120\n",
            "249/249 [==============================] - 0s 1ms/step - loss: nan - accuracy: 0.7937\n",
            "Epoch 16/120\n",
            "249/249 [==============================] - 0s 1ms/step - loss: nan - accuracy: 0.7937\n",
            "Epoch 17/120\n",
            "249/249 [==============================] - 0s 1ms/step - loss: nan - accuracy: 0.7937\n",
            "Epoch 18/120\n",
            "249/249 [==============================] - 0s 1ms/step - loss: nan - accuracy: 0.7937\n",
            "Epoch 19/120\n",
            "249/249 [==============================] - 0s 1ms/step - loss: nan - accuracy: 0.7937\n",
            "Epoch 20/120\n",
            "249/249 [==============================] - 0s 1ms/step - loss: nan - accuracy: 0.7937\n",
            "Epoch 21/120\n",
            "249/249 [==============================] - 0s 1ms/step - loss: nan - accuracy: 0.7937\n",
            "Epoch 22/120\n",
            "249/249 [==============================] - 0s 1ms/step - loss: nan - accuracy: 0.7937\n",
            "Epoch 23/120\n",
            "249/249 [==============================] - 0s 1ms/step - loss: nan - accuracy: 0.7937\n",
            "Epoch 24/120\n",
            "249/249 [==============================] - 0s 1ms/step - loss: nan - accuracy: 0.7937\n",
            "Epoch 25/120\n",
            "249/249 [==============================] - 0s 1ms/step - loss: nan - accuracy: 0.7937\n",
            "Epoch 26/120\n",
            "249/249 [==============================] - 0s 1ms/step - loss: nan - accuracy: 0.7937\n",
            "Epoch 27/120\n",
            "249/249 [==============================] - 0s 1ms/step - loss: nan - accuracy: 0.7937\n",
            "Epoch 28/120\n",
            "249/249 [==============================] - 0s 1ms/step - loss: nan - accuracy: 0.7937\n",
            "Epoch 29/120\n",
            "249/249 [==============================] - 0s 1ms/step - loss: nan - accuracy: 0.7937\n",
            "Epoch 30/120\n",
            "249/249 [==============================] - 0s 1ms/step - loss: nan - accuracy: 0.7937\n",
            "Epoch 31/120\n",
            "249/249 [==============================] - 0s 1ms/step - loss: nan - accuracy: 0.7937\n",
            "Epoch 32/120\n",
            "249/249 [==============================] - 0s 1ms/step - loss: nan - accuracy: 0.7937\n",
            "Epoch 33/120\n",
            "249/249 [==============================] - 0s 1ms/step - loss: nan - accuracy: 0.7937\n",
            "Epoch 34/120\n",
            "249/249 [==============================] - 0s 1ms/step - loss: nan - accuracy: 0.7937\n",
            "Epoch 35/120\n",
            "249/249 [==============================] - 0s 1ms/step - loss: nan - accuracy: 0.7937\n",
            "Epoch 36/120\n",
            "249/249 [==============================] - 0s 2ms/step - loss: nan - accuracy: 0.7937\n",
            "Epoch 37/120\n",
            "249/249 [==============================] - 0s 2ms/step - loss: nan - accuracy: 0.7937\n",
            "Epoch 38/120\n",
            "249/249 [==============================] - 0s 2ms/step - loss: nan - accuracy: 0.7937\n",
            "Epoch 39/120\n",
            "249/249 [==============================] - 0s 2ms/step - loss: nan - accuracy: 0.7937\n",
            "Epoch 40/120\n",
            "249/249 [==============================] - 0s 1ms/step - loss: nan - accuracy: 0.7937\n",
            "Epoch 41/120\n",
            "249/249 [==============================] - 0s 1ms/step - loss: nan - accuracy: 0.7937\n",
            "Epoch 42/120\n",
            "249/249 [==============================] - 0s 1ms/step - loss: nan - accuracy: 0.7937\n",
            "Epoch 43/120\n",
            "249/249 [==============================] - 0s 1ms/step - loss: nan - accuracy: 0.7937\n",
            "Epoch 44/120\n",
            "249/249 [==============================] - 0s 1ms/step - loss: nan - accuracy: 0.7937\n",
            "Epoch 45/120\n",
            "249/249 [==============================] - 0s 1ms/step - loss: nan - accuracy: 0.7937\n",
            "Epoch 46/120\n",
            "249/249 [==============================] - 0s 1ms/step - loss: nan - accuracy: 0.7937\n",
            "Epoch 47/120\n",
            "249/249 [==============================] - 0s 1ms/step - loss: nan - accuracy: 0.7937\n",
            "Epoch 48/120\n",
            "249/249 [==============================] - 0s 1ms/step - loss: nan - accuracy: 0.7937\n",
            "Epoch 49/120\n",
            "249/249 [==============================] - 0s 1ms/step - loss: nan - accuracy: 0.7937\n",
            "Epoch 50/120\n",
            "249/249 [==============================] - 0s 1ms/step - loss: nan - accuracy: 0.7937\n",
            "Epoch 51/120\n",
            "249/249 [==============================] - 0s 1ms/step - loss: nan - accuracy: 0.7937\n",
            "Epoch 52/120\n",
            "249/249 [==============================] - 0s 1ms/step - loss: nan - accuracy: 0.7937\n",
            "Epoch 53/120\n",
            "249/249 [==============================] - 0s 1ms/step - loss: nan - accuracy: 0.7937\n",
            "Epoch 54/120\n",
            "249/249 [==============================] - 0s 1ms/step - loss: nan - accuracy: 0.7937\n",
            "Epoch 55/120\n",
            "249/249 [==============================] - 0s 1ms/step - loss: nan - accuracy: 0.7937\n",
            "Epoch 56/120\n",
            "249/249 [==============================] - 0s 1ms/step - loss: nan - accuracy: 0.7937\n",
            "Epoch 57/120\n",
            "249/249 [==============================] - 0s 1ms/step - loss: nan - accuracy: 0.7937\n",
            "Epoch 58/120\n",
            "249/249 [==============================] - 0s 1ms/step - loss: nan - accuracy: 0.7937\n",
            "Epoch 59/120\n",
            "249/249 [==============================] - 0s 1ms/step - loss: nan - accuracy: 0.7937\n",
            "Epoch 60/120\n",
            "249/249 [==============================] - 0s 1ms/step - loss: nan - accuracy: 0.7937\n",
            "Epoch 61/120\n",
            "249/249 [==============================] - 0s 1ms/step - loss: nan - accuracy: 0.7937\n",
            "Epoch 62/120\n",
            "249/249 [==============================] - 0s 1ms/step - loss: nan - accuracy: 0.7937\n",
            "Epoch 63/120\n",
            "249/249 [==============================] - 0s 1ms/step - loss: nan - accuracy: 0.7937\n",
            "Epoch 64/120\n",
            "249/249 [==============================] - 0s 1ms/step - loss: nan - accuracy: 0.7937\n",
            "Epoch 65/120\n",
            "249/249 [==============================] - 0s 1ms/step - loss: nan - accuracy: 0.7937\n",
            "Epoch 66/120\n",
            "249/249 [==============================] - 0s 1ms/step - loss: nan - accuracy: 0.7937\n",
            "Epoch 67/120\n",
            "249/249 [==============================] - 0s 1ms/step - loss: nan - accuracy: 0.7937\n",
            "Epoch 68/120\n",
            "249/249 [==============================] - 0s 1ms/step - loss: nan - accuracy: 0.7937\n",
            "Epoch 69/120\n",
            "249/249 [==============================] - 0s 1ms/step - loss: nan - accuracy: 0.7937\n",
            "Epoch 70/120\n",
            "249/249 [==============================] - 0s 1ms/step - loss: nan - accuracy: 0.7937\n",
            "Epoch 71/120\n",
            "249/249 [==============================] - 0s 1ms/step - loss: nan - accuracy: 0.7937\n",
            "Epoch 72/120\n",
            "249/249 [==============================] - 0s 1ms/step - loss: nan - accuracy: 0.7937\n",
            "Epoch 73/120\n",
            "249/249 [==============================] - 0s 1ms/step - loss: nan - accuracy: 0.7937\n",
            "Epoch 74/120\n",
            "249/249 [==============================] - 0s 2ms/step - loss: nan - accuracy: 0.7937\n",
            "Epoch 75/120\n",
            "249/249 [==============================] - 0s 2ms/step - loss: nan - accuracy: 0.7937\n",
            "Epoch 76/120\n",
            "249/249 [==============================] - 0s 2ms/step - loss: nan - accuracy: 0.7937\n",
            "Epoch 77/120\n",
            "249/249 [==============================] - 0s 1ms/step - loss: nan - accuracy: 0.7937\n",
            "Epoch 78/120\n",
            "249/249 [==============================] - 0s 1ms/step - loss: nan - accuracy: 0.7937\n",
            "Epoch 79/120\n",
            "249/249 [==============================] - 0s 1ms/step - loss: nan - accuracy: 0.7937\n",
            "Epoch 80/120\n",
            "249/249 [==============================] - 0s 1ms/step - loss: nan - accuracy: 0.7937\n",
            "Epoch 81/120\n",
            "249/249 [==============================] - 0s 1ms/step - loss: nan - accuracy: 0.7937\n",
            "Epoch 82/120\n",
            "249/249 [==============================] - 0s 1ms/step - loss: nan - accuracy: 0.7937\n",
            "Epoch 83/120\n",
            "249/249 [==============================] - 0s 1ms/step - loss: nan - accuracy: 0.7937\n",
            "Epoch 84/120\n",
            "249/249 [==============================] - 0s 1ms/step - loss: nan - accuracy: 0.7937\n",
            "Epoch 85/120\n",
            "249/249 [==============================] - 0s 1ms/step - loss: nan - accuracy: 0.7937\n",
            "Epoch 86/120\n",
            "249/249 [==============================] - 0s 1ms/step - loss: nan - accuracy: 0.7937\n",
            "Epoch 87/120\n",
            "249/249 [==============================] - 0s 1ms/step - loss: nan - accuracy: 0.7937\n",
            "Epoch 88/120\n",
            "249/249 [==============================] - 0s 1ms/step - loss: nan - accuracy: 0.7937\n",
            "Epoch 89/120\n",
            "249/249 [==============================] - 0s 1ms/step - loss: nan - accuracy: 0.7937\n",
            "Epoch 90/120\n",
            "249/249 [==============================] - 0s 1ms/step - loss: nan - accuracy: 0.7937\n",
            "Epoch 91/120\n",
            "249/249 [==============================] - 0s 1ms/step - loss: nan - accuracy: 0.7937\n",
            "Epoch 92/120\n",
            "249/249 [==============================] - 0s 1ms/step - loss: nan - accuracy: 0.7937\n",
            "Epoch 93/120\n",
            "249/249 [==============================] - 0s 1ms/step - loss: nan - accuracy: 0.7937\n",
            "Epoch 94/120\n",
            "249/249 [==============================] - 0s 1ms/step - loss: nan - accuracy: 0.7937\n",
            "Epoch 95/120\n",
            "249/249 [==============================] - 0s 1ms/step - loss: nan - accuracy: 0.7937\n",
            "Epoch 96/120\n",
            "249/249 [==============================] - 0s 1ms/step - loss: nan - accuracy: 0.7937\n",
            "Epoch 97/120\n",
            "249/249 [==============================] - 0s 1ms/step - loss: nan - accuracy: 0.7937\n",
            "Epoch 98/120\n",
            "249/249 [==============================] - 0s 1ms/step - loss: nan - accuracy: 0.7937\n",
            "Epoch 99/120\n",
            "249/249 [==============================] - 0s 1ms/step - loss: nan - accuracy: 0.7937\n",
            "Epoch 100/120\n",
            "249/249 [==============================] - 0s 1ms/step - loss: nan - accuracy: 0.7937\n",
            "Epoch 101/120\n",
            "249/249 [==============================] - 0s 1ms/step - loss: nan - accuracy: 0.7937\n",
            "Epoch 102/120\n",
            "249/249 [==============================] - 0s 1ms/step - loss: nan - accuracy: 0.7937\n",
            "Epoch 103/120\n",
            "249/249 [==============================] - 0s 1ms/step - loss: nan - accuracy: 0.7937\n",
            "Epoch 104/120\n",
            "249/249 [==============================] - 0s 1ms/step - loss: nan - accuracy: 0.7937\n",
            "Epoch 105/120\n",
            "249/249 [==============================] - 0s 1ms/step - loss: nan - accuracy: 0.7937\n",
            "Epoch 106/120\n",
            "249/249 [==============================] - 0s 1ms/step - loss: nan - accuracy: 0.7937\n",
            "Epoch 107/120\n",
            "249/249 [==============================] - 0s 1ms/step - loss: nan - accuracy: 0.7937\n",
            "Epoch 108/120\n",
            "249/249 [==============================] - 0s 1ms/step - loss: nan - accuracy: 0.7937\n",
            "Epoch 109/120\n",
            "249/249 [==============================] - 0s 2ms/step - loss: nan - accuracy: 0.7937\n",
            "Epoch 110/120\n",
            "249/249 [==============================] - 0s 1ms/step - loss: nan - accuracy: 0.7937\n",
            "Epoch 111/120\n",
            "249/249 [==============================] - 0s 2ms/step - loss: nan - accuracy: 0.7937\n",
            "Epoch 112/120\n",
            "249/249 [==============================] - 0s 2ms/step - loss: nan - accuracy: 0.7937\n",
            "Epoch 113/120\n",
            "249/249 [==============================] - 0s 2ms/step - loss: nan - accuracy: 0.7937\n",
            "Epoch 114/120\n",
            "249/249 [==============================] - 0s 1ms/step - loss: nan - accuracy: 0.7937\n",
            "Epoch 115/120\n",
            "249/249 [==============================] - 0s 1ms/step - loss: nan - accuracy: 0.7937\n",
            "Epoch 116/120\n",
            "249/249 [==============================] - 0s 1ms/step - loss: nan - accuracy: 0.7937\n",
            "Epoch 117/120\n",
            "249/249 [==============================] - 0s 1ms/step - loss: nan - accuracy: 0.7937\n",
            "Epoch 118/120\n",
            "249/249 [==============================] - 0s 1ms/step - loss: nan - accuracy: 0.7937\n",
            "Epoch 119/120\n",
            "249/249 [==============================] - 0s 1ms/step - loss: nan - accuracy: 0.7937\n",
            "Epoch 120/120\n",
            "249/249 [==============================] - 0s 1ms/step - loss: nan - accuracy: 0.7937\n",
            "63/63 [==============================] - 0s 959us/step\n",
            "Confusion Matrix:\n",
            "[[1595    0]\n",
            " [ 390    0]]\n",
            "Accuracy: 0.8035264483627204\n"
          ]
        }
      ]
    },
    {
      "cell_type": "code",
      "source": [],
      "metadata": {
        "id": "MVDQTuQSgv7H"
      },
      "execution_count": null,
      "outputs": []
    }
  ]
}